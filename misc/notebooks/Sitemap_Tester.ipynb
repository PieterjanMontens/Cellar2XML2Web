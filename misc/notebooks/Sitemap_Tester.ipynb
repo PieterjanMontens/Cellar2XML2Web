{
 "cells": [
  {
   "cell_type": "code",
   "execution_count": 20,
   "id": "0849b387-b48e-4aeb-b7be-3ca7d953af04",
   "metadata": {},
   "outputs": [],
   "source": [
    "import json, yaml, lxml.etree as ET\n",
    "from pathlib import Path\n",
    "\n",
    "root_xml = \"../runs/2025-06-20_01JYEHS5C281Z08D1C3E4HCEQ9/sparql_raw.results\""
   ]
  },
  {
   "cell_type": "code",
   "execution_count": 21,
   "id": "dfd50738-32c7-41fc-a220-6afa00ad6d9e",
   "metadata": {},
   "outputs": [],
   "source": [
    "def load_xml_file(file_path):\n",
    "    \"\"\"Load and parse an XML file using lxml.etree.\"\"\"\n",
    "    absolute_path = (Path.cwd() / file_path).resolve(strict=True)\n",
    "\n",
    "    try:\n",
    "        with open(absolute_path, 'rb') as f:  # Open in binary mode\n",
    "            tree = ET.parse(f)\n",
    "        return tree\n",
    "    except (ET.XMLSyntaxError, OSError) as e:\n",
    "        print(f\"Error loading XML file: {e}\")\n",
    "        return None"
   ]
  },
  {
   "cell_type": "code",
   "execution_count": 22,
   "id": "e7aa0889-b2fe-48d3-89b3-ebfaa70833a1",
   "metadata": {},
   "outputs": [
    {
     "data": {
      "text/plain": [
       "<lxml.etree._ElementTree at 0x7fbc46d0bf40>"
      ]
     },
     "execution_count": 22,
     "metadata": {},
     "output_type": "execute_result"
    }
   ],
   "source": [
    "xml_tree = load_xml_file(root_xml)\n",
    "xml_tree"
   ]
  },
  {
   "cell_type": "code",
   "execution_count": 43,
   "id": "0d34a0b4-322a-49d4-a025-f7b2c82659be",
   "metadata": {},
   "outputs": [
    {
     "data": {
      "text/plain": [
       "'<?xml version=\"1.0\"?>\\n<urlset xmlns=\"http://www.sitemaps.org/schemas/sitemap/0.9\" xmlns:dcterms=\"http://purl.org/dc/terms/\" xmlns:rdf=\"http://www.w3.org/1999/02/22-rdf-syntax-ns#\" xmlns:akn4eu=\"http://imfc.europa.eu/akn4eu\">\\n  <url>\\n    <loc>http://data.europa.eu/eli/C/2025/3157/oj</loc>\\n    <lastmod>coucou</lastmod>\\n    <changefreq>monthly</changefreq>\\n    <priority>1</priority>\\n    <dcterms:isPartOf rdf:datatype=\"http://www.w3.org/2001/XMLSchema#anyURI\">http://publications.europa.eu/resource/authority/document-collection/OJ-C</dcterms:isPartOf>\\n    <dcterms:identifier>52025DP0021</dcterms:identifier>\\n    <dcterms:creator rdf:datatype=\"http://www.w3.org/2001/XMLSchema#anyURI\">http://publications.europa.eu/resource/authority/corporate-body/EP</dcterms:creator>\\n    <dcterms:creator rdf:datatype=\"http://www.w3.org/2001/XMLSchema#anyURI\">http://publications.europa.eu/resource/authority/corporate-body/EP_JURI</dcterms:creator>\\n    <dcterms:issued>999-999-999</dcterms:issued>\\n    <akn4eu:nu'"
      ]
     },
     "execution_count": 43,
     "metadata": {},
     "output_type": "execute_result"
    }
   ],
   "source": [
    "XSLT = ET.XSLT(ET.parse(\"../xslt/raw_to_sitemap.xslt\"))\n",
    "output = XSLT(\n",
    "    xml_tree,\n",
    "    issuedDate=ET.XSLT.strparam('999-999-999'),\n",
    "    lastmodDate=ET.XSLT.strparam('coucou'))\n",
    "str(output)[:1000]"
   ]
  },
  {
   "cell_type": "markdown",
   "id": "236a9805-809a-42d8-8ab8-01d377c8e76f",
   "metadata": {},
   "source": [
    "# How the sparql XML is:\n",
    "```xml\n",
    "<sparql xmlns=\"http://www.w3.org/2005/sparql-results#\" xmlns:xsi=\"http://www.w3.org/2001/XMLSchema-instance\" xsi:schemaLocation=\"http://www.w3.org/2001/sw/DataAccess/rf1/result2.xsd\">\n",
    " <head>\n",
    "  <variable name=\"act\"/>\n",
    "  <variable name=\"eli\"/>\n",
    "  <variable name=\"celex\"/>\n",
    "  <variable name=\"resource_type\"/>\n",
    "  <variable name=\"title\"/>\n",
    "  <variable name=\"oj_number\"/>\n",
    "  <variable name=\"oj_collection\"/>\n",
    "  <variable name=\"creating_agents\"/>\n",
    " </head>\n",
    " <results distinct=\"false\" ordered=\"true\">\n",
    " <result>\n",
    "   <binding name=\"act\"><uri>http://publications.europa.eu/resource/cellar/8ba716b7-4d6e-11f0-a9d0-01aa75ed71a1</uri></binding>\n",
    "   <binding name=\"eli\"><literal datatype=\"http://www.w3.org/2001/XMLSchema#anyURI\">http://data.europa.eu/eli/reg_impl/2025/1197/oj</literal></binding>\n",
    "   <binding name=\"celex\"><literal datatype=\"http://www.w3.org/2001/XMLSchema#string\">32025R1197</literal></binding>\n",
    "   <binding name=\"resource_type\"><uri>http://publications.europa.eu/resource/authority/resource-type/REG_IMPL</uri></binding>\n",
    "   <binding name=\"title\"><literal xml:lang=\"fr\">Commission Implementing Regulation imposing an International Procurement Instrument measure</literal></binding>\n",
    "   <binding name=\"oj_number\"><literal datatype=\"http://www.w3.org/2001/XMLSchema#positiveInteger\">1197</literal></binding>\n",
    "   <binding name=\"oj_collection\"><uri>http://publications.europa.eu/resource/authority/document-collection/OJ-L</uri></binding>\n",
    "   <binding name=\"creating_agents\"><uri>http://publications.europa.eu/resource/authority/corporate-body/COM</uri></binding>\n",
    "  </result>\n",
    "  <result>\n",
    "   <binding name=\"act\"><uri>http://publications.europa.eu/resource/cellar/8ba716b7-4d6e-11f0-a9d0-01aa75ed71a1</uri></binding>\n",
    "   <binding name=\"eli\"><literal datatype=\"http://www.w3.org/2001/XMLSchema#anyURI\">http://data.europa.eu/eli/reg_impl/2025/1197/oj</literal></binding>\n",
    "   <binding name=\"celex\"><literal datatype=\"http://www.w3.org/2001/XMLSchema#string\">32025R1197</literal></binding>\n",
    "   <binding name=\"resource_type\"><uri>http://publications.europa.eu/resource/authority/resource-type/REG_IMPL</uri></binding>\n",
    "   <binding name=\"title\"><literal xml:lang=\"en\">Commission Implementing Regulation imposing an International Procurement Instrument measure</literal></binding>\n",
    "   <binding name=\"oj_number\"><literal datatype=\"http://www.w3.org/2001/XMLSchema#positiveInteger\">1197</literal></binding>\n",
    "   <binding name=\"oj_collection\"><uri>http://publications.europa.eu/resource/authority/document-collection/OJ-L</uri></binding>\n",
    "   <binding name=\"creating_agents\"><uri>http://publications.europa.eu/resource/authority/corporate-body/TRADE</uri></binding>\n",
    "  </result>\n",
    "  ```\n",
    "\n",
    "How it should look like:\n",
    "\n",
    "```xml\n",
    "<?xml version=\"1.0\" encoding=\"UTF-8\"?>\n",
    "<urlset xmlns=\"http://www.sitemaps.org/schemas/sitemap/0.9\"\n",
    "        xmlns:akn4eu=\"http://imfc.europa.eu/akn4eu\"\n",
    "        xmlns:rdf=\"http://www.w3.org/1999/02/22-rdf-syntax-ns#\"\n",
    "        xmlns:dcterms=\"http://purl.org/dc/terms/\">\n",
    "   <url>\n",
    "      <loc>http://data.europa.eu/eli/C/2025/3157/oj/fra</loc>\n",
    "      <lastmod>2005-01-01</lastmod>\n",
    "      <changefreq>monthly</changefreq>\n",
    "      <priority>1</priority>\n",
    "      <dcterms:isPartOf rdf:datatype=\"http://www.w3.org/2001/XMLSchema#anyURI\">http://publications.europa.eu/resource/authority/document-collection/OJ-L</dcterms:isPartOf>\n",
    "    <dcterms:identifier>32025R1197</dcterms:identifier>\n",
    "    <dcterms:creator rdf:datatype=\"http://www.w3.org/2001/XMLSchema#anyURI\">http://publications.europa.eu/resource/authority/corporate-body/TRADE</dcterms:creator>\n",
    "       <dcterms:issued>2025-20-10</dcterms:issued>\n",
    "      <akn4eu:num>1197</akn4eu:num>\n",
    "      <akn4eu:docType rdf:datatype=\"http://www.w3.org/2001/XMLSchema#anyURI\">http://publications.europa.eu/resource/authority/resource-type/REG_IMPL</akn4eu:docType>\n",
    "      <akn4eu:docTitle><literal xml:lang=\"en\">Commission Implementing Regulation imposing an International Procurement Instrument measure</literal></akn4eu:docTitle>\n",
    "   </url>\n",
    "</urlset> \n",
    "```"
   ]
  }
 ],
 "metadata": {
  "kernelspec": {
   "display_name": "Python 3 (ipykernel)",
   "language": "python",
   "name": "python3"
  },
  "language_info": {
   "codemirror_mode": {
    "name": "ipython",
    "version": 3
   },
   "file_extension": ".py",
   "mimetype": "text/x-python",
   "name": "python",
   "nbconvert_exporter": "python",
   "pygments_lexer": "ipython3",
   "version": "3.11.2"
  }
 },
 "nbformat": 4,
 "nbformat_minor": 5
}
